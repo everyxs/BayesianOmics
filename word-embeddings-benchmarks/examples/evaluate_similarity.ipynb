{
 "cells": [
  {
   "cell_type": "code",
   "execution_count": 1,
   "metadata": {},
   "outputs": [],
   "source": [
    "import logging\n",
    "from six import iteritems\n",
    "from web.datasets.similarity import fetch_MEN, fetch_WS353, fetch_SimLex999\n",
    "from web.embeddings import fetch_FastText\n",
    "from web.evaluate import evaluate_similarity"
   ]
  },
  {
   "cell_type": "code",
   "execution_count": 12,
   "metadata": {},
   "outputs": [],
   "source": [
    "import numpy as np\n",
    "import tensorflow as tf\n",
    "import tensorflow_hub as hub\n",
    "import tensorflow_text as text  # Imports TF ops for preprocessing.\n",
    "\n",
    "# Define some sentences to feed into the model\n",
    "sentences = [\n",
    "  \"Here We Go Then, You And I is a 1999 album by Norwegian pop artist Morten Abel. It was Abel's second CD as a solo artist.\",\n",
    "  \"The album went straight to number one on the Norwegian album chart, and sold to double platinum.\",\n",
    "  \"Ceylon spinach is a common name for several plants and may refer to: Basella alba Talinum fruticosum\",\n",
    "  \"A solar eclipse occurs when the Moon passes between Earth and the Sun, thereby totally or partly obscuring the image of the Sun for a viewer on Earth.\",\n",
    "  \"A partial solar eclipse occurs in the polar regions of the Earth when the center of the Moon's shadow misses the Earth.\",\n",
    "]\n",
    "\n",
    "# Load the BERT encoder and preprocessing models\n",
    "preprocess = hub.load('https://tfhub.dev/tensorflow/bert_en_uncased_preprocess/3')\n",
    "bert = hub.load('https://tfhub.dev/google/experts/bert/pubmed/2')"
   ]
  },
  {
   "cell_type": "code",
   "execution_count": 13,
   "metadata": {
    "tags": []
   },
   "outputs": [
    {
     "name": "stdout",
     "output_type": "stream",
     "text": [
      "\n",
      "Sentences:\n",
      "[\"Here We Go Then, You And I is a 1999 album by Norwegian pop artist Morten Abel. It was Abel's second CD as a solo artist.\", 'The album went straight to number one on the Norwegian album chart, and sold to double platinum.', 'Ceylon spinach is a common name for several plants and may refer to: Basella alba Talinum fruticosum', 'A solar eclipse occurs when the Moon passes between Earth and the Sun, thereby totally or partly obscuring the image of the Sun for a viewer on Earth.', \"A partial solar eclipse occurs in the polar regions of the Earth when the center of the Moon's shadow misses the Earth.\"]\n",
      "\n",
      "Pooled output:\n",
      "tf.Tensor(\n",
      "[[ 0.16779432 -0.3931237   0.53747344 ...  0.58478045 -0.43332016\n",
      "  -0.60146844]\n",
      " [ 0.4183169  -0.11058168  0.3771507  ...  0.42176116 -0.25798595\n",
      "   0.09233482]\n",
      " [-0.55007124  0.36924237 -0.06870123 ... -0.5558867  -0.75570697\n",
      "  -0.4532632 ]\n",
      " [ 0.05911509  0.08546973 -0.5964464  ... -0.55465823 -0.7894636\n",
      "  -0.79851866]\n",
      " [ 0.30475447 -0.02681021 -0.6156379  ... -0.64931107 -0.66777474\n",
      "  -0.76917726]], shape=(5, 768), dtype=float32)\n",
      "\n",
      "Sequence output:\n",
      "tf.Tensor(\n",
      "[[[ 1.69396237e-01 -4.15489435e-01  6.00595891e-01 ...  6.69696867e-01\n",
      "   -4.63977188e-01 -6.95444822e-01]\n",
      "  [-2.57254750e-01 -1.50937891e+00  1.80637121e-01 ...  6.82696044e-01\n",
      "   -2.09267437e-01 -2.12221217e+00]\n",
      "  [ 3.51816595e-01 -1.03425562e+00  1.34412003e+00 ...  5.58134913e-01\n",
      "   -5.98795533e-01 -3.93280149e+00]\n",
      "  ...\n",
      "  [ 7.81267434e-02 -3.68686855e-01  5.66039860e-01 ...  5.11119545e-01\n",
      "    2.03028440e-01 -1.24897039e+00]\n",
      "  [-1.78146869e-01  3.39877903e-01  8.46224844e-01 ...  7.71699846e-02\n",
      "   -1.50282145e-01 -1.50179267e+00]\n",
      "  [ 2.33326539e-01 -2.34717160e-01  5.18368661e-01 ...  3.77251476e-01\n",
      "    4.31996047e-01 -1.82677567e-01]]\n",
      "\n",
      " [[ 4.45650220e-01 -1.11035764e-01  3.96733701e-01 ...  4.49832320e-01\n",
      "   -2.63949573e-01  9.25985873e-02]\n",
      "  [ 2.46660709e-01 -1.27175319e+00  1.61924601e+00 ... -2.45480090e-02\n",
      "   -1.41538990e+00  3.48754436e-01]\n",
      "  [ 2.16389954e-01 -6.61505520e-01  5.32845140e-01 ...  3.12242866e-01\n",
      "   -4.96415675e-01  6.33015990e-01]\n",
      "  ...\n",
      "  [ 1.13553047e+00 -1.33479208e-01  7.63117373e-01 ...  4.92088497e-03\n",
      "   -1.02109623e+00  8.24612737e-01]\n",
      "  [ 3.82676423e-02  6.96831942e-03 -2.79416621e-01 ...  2.08330035e-01\n",
      "    2.64633060e-01 -2.33713484e+00]\n",
      "  [ 3.25920135e-02 -1.31143570e-01 -1.81342542e-01 ...  2.14695424e-01\n",
      "    2.88133681e-01 -2.24249744e+00]]\n",
      "\n",
      " [[-6.18483424e-01  3.87545586e-01 -6.88096285e-02 ... -6.26860499e-01\n",
      "   -9.86129165e-01 -4.88799632e-01]\n",
      "  [ 1.81230009e-01 -5.94872236e-02  6.49117649e-01 ... -3.89668703e-01\n",
      "    2.66290694e-01 -1.01371229e+00]\n",
      "  [-1.03689516e+00  3.03295523e-01  1.05619478e+00 ...  1.36172384e-01\n",
      "   -6.16276622e-01 -3.12320042e+00]\n",
      "  ...\n",
      "  [ 4.98301119e-01 -4.37523663e-01  9.36459124e-01 ... -5.11536002e-01\n",
      "   -5.70779443e-01  1.00313950e+00]\n",
      "  [ 3.99730563e-01 -1.42280531e+00  6.24751568e-01 ... -4.77660984e-01\n",
      "   -3.10621321e-01  3.42962086e-01]\n",
      "  [ 5.00138283e-01 -4.37662303e-01  9.37468171e-01 ... -5.11470675e-01\n",
      "   -5.71488261e-01  1.00364256e+00]]\n",
      "\n",
      " [[ 5.91841042e-02  8.56787711e-02 -6.87613010e-01 ... -6.25084519e-01\n",
      "   -1.07000625e+00 -1.09451079e+00]\n",
      "  [ 6.95663452e-01 -1.37897336e+00 -3.63636017e-02 ... -3.31296921e-01\n",
      "    9.80758548e-01  8.58820319e-01]\n",
      "  [-7.32994974e-01  9.50979114e-01 -1.65757507e-01 ... -3.92054200e-01\n",
      "   -8.67008865e-02  1.45660961e+00]\n",
      "  ...\n",
      "  [-2.80024886e-01 -1.53386205e-01  5.05769849e-01 ...  8.27689618e-02\n",
      "    6.56467795e-01 -2.27233481e+00]\n",
      "  [-2.94302464e-01 -5.96782804e-01  6.30517602e-01 ...  5.33663630e-02\n",
      "    3.99210811e-01 -1.59871757e+00]\n",
      "  [-2.40845859e-01 -1.39334202e-01  4.99789476e-01 ...  3.13057899e-02\n",
      "    7.37393379e-01 -2.66352797e+00]]\n",
      "\n",
      " [[ 3.14752579e-01 -2.68166363e-02 -7.17949927e-01 ... -7.74106562e-01\n",
      "   -8.06716084e-01 -1.01830983e+00]\n",
      "  [ 8.64723146e-01 -1.59878337e+00  1.97292894e-01 ... -4.91547942e-01\n",
      "    1.35962617e+00  2.76580751e-02]\n",
      "  [ 7.10791171e-01 -1.89149070e+00  8.25610757e-02 ... -9.09125358e-02\n",
      "    7.02844441e-01  1.05465734e+00]\n",
      "  ...\n",
      "  [-2.08354250e-01 -8.22376132e-01  4.32878792e-01 ...  2.41130292e-01\n",
      "    9.77064222e-02 -3.09477806e+00]\n",
      "  [-4.14899886e-02 -3.30340862e-02  3.17790329e-01 ...  7.17449188e-03\n",
      "    8.02410662e-01 -3.80203605e+00]\n",
      "  [ 2.08064422e-01 -8.50629330e-01  4.03735757e-01 ... -3.74048948e-04\n",
      "    4.46867049e-01 -5.42347670e-01]]], shape=(5, 128, 768), dtype=float32)\n"
     ]
    }
   ],
   "source": [
    "bert_inputs = preprocess(sentences)\n",
    "\n",
    "# Feed the inputs to the model to get the pooled and sequence outputs\n",
    "bert_outputs = bert(bert_inputs, training=False)\n",
    "pooled_output = bert_outputs['pooled_output']\n",
    "sequence_output = bert_outputs['sequence_output']\n",
    "\n",
    "print('\\nSentences:')\n",
    "print(sentences)\n",
    "print('\\nPooled output:')\n",
    "print(pooled_output)\n",
    "print('\\nSequence output:')\n",
    "print(sequence_output)\n"
   ]
  },
  {
   "cell_type": "code",
   "execution_count": 11,
   "metadata": {},
   "outputs": [
    {
     "name": "stdout",
     "output_type": "stream",
     "text": [
      "\n",
      "Sentences:\n",
      "[\"Here We Go Then, You And I is a 1999 album by Norwegian pop artist Morten Abel. It was Abel's second CD as a solo artist.\", 'The album went straight to number one on the Norwegian album chart, and sold to double platinum.', 'Ceylon spinach is a common name for several plants and may refer to: Basella alba Talinum fruticosum', 'A solar eclipse occurs when the Moon passes between Earth and the Sun, thereby totally or partly obscuring the image of the Sun for a viewer on Earth.', \"A partial solar eclipse occurs in the polar regions of the Earth when the center of the Moon's shadow misses the Earth.\"]\n",
      "\n",
      "Pooled output:\n",
      "tf.Tensor(\n",
      "[[ 0.7975976  -0.4858056   0.49781555 ... -0.34488398  0.3972774\n",
      "  -0.20639606]\n",
      " [ 0.5712031  -0.41205284  0.7048917  ... -0.3518512   0.19032407\n",
      "  -0.40418974]\n",
      " [-0.3572719   0.7708981   0.15756561 ...  0.44185397 -0.86448216\n",
      "   0.04505212]\n",
      " [ 0.9107705   0.4150143   0.560635   ... -0.49263868  0.39640468\n",
      "  -0.05036111]\n",
      " [ 0.90502894 -0.15505318  0.7267214  ... -0.34734473  0.5052641\n",
      "  -0.19542877]], shape=(5, 768), dtype=float32)\n",
      "\n",
      "Sequence output:\n",
      "tf.Tensor(\n",
      "[[[ 1.09197414e+00 -5.30555487e-01  5.46397805e-01 ... -3.59625340e-01\n",
      "    4.20412004e-01 -2.09404111e-01]\n",
      "  [ 1.01438189e+00  7.80790448e-01  8.53758991e-01 ...  5.52820683e-01\n",
      "   -1.12457919e+00  5.60276687e-01]\n",
      "  [ 7.88625956e-01  7.77751729e-02  9.51508343e-01 ... -1.90753400e-01\n",
      "    5.92061996e-01  6.19107664e-01]\n",
      "  ...\n",
      "  [-3.22029918e-01 -4.25211310e-01 -1.28237695e-01 ... -3.90949249e-01\n",
      "   -7.90973425e-01  4.22366500e-01]\n",
      "  [-3.10382620e-02  2.39857689e-01 -2.19943315e-01 ... -1.14401318e-01\n",
      "   -1.26804900e+00 -1.61362976e-01]\n",
      "  [-4.20637459e-01  5.49733162e-01 -3.24447960e-01 ... -1.84786558e-01\n",
      "   -1.13429642e+00 -5.89753017e-02]]\n",
      "\n",
      " [[ 6.49306715e-01 -4.38081384e-01  8.76957119e-01 ... -3.67554933e-01\n",
      "    1.92673415e-01 -4.28646743e-01]\n",
      "  [-1.12487364e+00  2.99316049e-01  1.17996526e+00 ...  4.87294018e-01\n",
      "    5.34003854e-01  2.28360847e-01]\n",
      "  [-2.70573437e-01  3.23542058e-02  1.04256868e+00 ...  5.89937389e-01\n",
      "    1.53679085e+00  5.84258139e-01]\n",
      "  ...\n",
      "  [-1.47625124e+00  1.82392716e-01  5.58764338e-02 ... -1.67332065e+00\n",
      "   -6.73988700e-01 -7.24497557e-01]\n",
      "  [-1.51381338e+00  5.81847370e-01  1.61419570e-01 ... -1.26408184e+00\n",
      "   -4.02722746e-01 -9.71972764e-01]\n",
      "  [-4.71529752e-01  2.28173047e-01  5.27762115e-01 ... -7.54835904e-01\n",
      "   -9.09031034e-01 -1.69546679e-01]]\n",
      "\n",
      " [[-3.73755127e-01  1.02253747e+00  1.58889353e-01 ...  4.74532247e-01\n",
      "   -1.31081784e+00  4.50826399e-02]\n",
      "  [-4.15891141e-01  5.00192225e-01 -4.58436996e-01 ...  4.14820105e-01\n",
      "   -6.20658040e-01 -7.15547204e-01]\n",
      "  [-1.25043917e+00  5.09362578e-01 -5.71035206e-01 ...  3.54912221e-01\n",
      "    2.43685693e-01 -2.05772018e+00]\n",
      "  ...\n",
      "  [ 1.33938119e-01  1.18591666e+00 -2.21699983e-01 ... -8.19470406e-01\n",
      "   -1.67372870e+00 -3.96924764e-01]\n",
      "  [-3.36620539e-01  1.65561962e+00 -3.78120840e-01 ... -9.67453122e-01\n",
      "   -1.48009908e+00 -8.33307266e-01]\n",
      "  [-2.26490811e-01  1.61784327e+00 -6.70439780e-01 ... -4.90783572e-01\n",
      "   -1.45356655e+00 -7.17071950e-01]]\n",
      "\n",
      " [[ 1.53202415e+00  4.41653728e-01  6.33758783e-01 ... -5.39538741e-01\n",
      "    4.19376075e-01 -5.04037552e-02]\n",
      "  [ 8.93777966e-01  8.93955648e-01  3.06289792e-02 ...  5.90399429e-02\n",
      "   -2.06495374e-01 -8.48112166e-01]\n",
      "  [-1.85601562e-02  1.04790616e+00 -1.33296084e+00 ... -1.38697773e-01\n",
      "   -3.78796399e-01 -4.90685880e-01]\n",
      "  ...\n",
      "  [ 1.42756355e+00  1.06968723e-01 -4.06356305e-02 ... -3.17777246e-02\n",
      "   -4.14599657e-01  7.00371087e-01]\n",
      "  [ 1.12866330e+00  1.45478189e-01 -6.13724589e-01 ...  4.74918067e-01\n",
      "   -3.98522139e-01  4.31245595e-01]\n",
      "  [ 1.43933046e+00  1.80305853e-01 -4.28543329e-01 ... -2.50228018e-01\n",
      "   -1.00005531e+00  3.59855145e-01]]\n",
      "\n",
      " [[ 1.49934018e+00 -1.56314015e-01  9.21743870e-01 ... -3.62421036e-01\n",
      "    5.56349754e-01 -1.97975352e-01]\n",
      "  [ 1.11105359e+00  3.66511822e-01  3.55057001e-01 ... -5.42975783e-01\n",
      "    1.44713670e-01 -3.16760957e-01]\n",
      "  [ 2.40488455e-01  3.81155550e-01 -5.91829538e-01 ...  3.74107927e-01\n",
      "   -5.98298073e-01 -1.01662517e+00]\n",
      "  ...\n",
      "  [ 1.01586246e+00  5.02604425e-01  1.07372224e-01 ... -9.56425548e-01\n",
      "   -4.10394520e-01 -2.67599553e-01]\n",
      "  [ 1.18489325e+00  6.54797554e-01  1.01660192e-03 ... -8.61544788e-01\n",
      "   -8.80375206e-02 -3.06368589e-01]\n",
      "  [ 1.26691043e+00  4.77678537e-01  6.62758946e-03 ... -1.15858018e+00\n",
      "   -7.06748068e-02 -1.86786219e-01]]], shape=(5, 128, 768), dtype=float32)\n"
     ]
    }
   ],
   "source": [
    "bert2 = hub.load('https://tfhub.dev/google/experts/bert/wiki_books/2')\n",
    "# Feed the inputs to the model to get the pooled and sequence outputs\n",
    "bert_outputs2 = bert2(bert_inputs, training=False)\n",
    "pooled_output2 = bert_outputs2['pooled_output']\n",
    "sequence_output2 = bert_outputs2['sequence_output']\n",
    "\n",
    "print('\\nSentences:')\n",
    "print(sentences)\n",
    "print('\\nPooled output:')\n",
    "print(pooled_output2)\n",
    "print('\\nSequence output:')\n",
    "print(sequence_output2)"
   ]
  },
  {
   "cell_type": "code",
   "execution_count": 5,
   "metadata": {
    "tags": []
   },
   "outputs": [],
   "source": [
    "# Configure logging\n",
    "logging.basicConfig(format='%(asctime)s %(levelname)s:%(message)s', level=logging.DEBUG, datefmt='%I:%M:%S')"
   ]
  },
  {
   "cell_type": "code",
   "execution_count": 10,
   "metadata": {
    "collapsed": true,
    "jupyter": {
     "outputs_hidden": true
    },
    "tags": []
   },
   "outputs": [
    {
     "name": "stdout",
     "output_type": "stream",
     "text": [
      "Downloading data from https://s3-us-west-1.amazonaws.com/fasttext-vectors/wiki.en.vec ...\n",
      "Error while fetching file wiki.en.vec. Dataset fetching aborted.\n"
     ]
    },
    {
     "ename": "HTTPError",
     "evalue": "HTTP Error 403: Forbidden",
     "output_type": "error",
     "traceback": [
      "\u001b[0;31m---------------------------------------------------------------------------\u001b[0m",
      "\u001b[0;31mHTTPError\u001b[0m                                 Traceback (most recent call last)",
      "\u001b[0;32m<ipython-input-10-96cc3da950f8>\u001b[0m in \u001b[0;36m<module>\u001b[0;34m\u001b[0m\n\u001b[1;32m      1\u001b[0m \u001b[0;31m# Fetch GloVe embedding (warning: it might take few minutes)\u001b[0m\u001b[0;34m\u001b[0m\u001b[0;34m\u001b[0m\u001b[0;34m\u001b[0m\u001b[0m\n\u001b[0;32m----> 2\u001b[0;31m \u001b[0mw_glove\u001b[0m \u001b[0;34m=\u001b[0m \u001b[0mfetch_FastText\u001b[0m\u001b[0;34m(\u001b[0m\u001b[0;34m)\u001b[0m\u001b[0;34m\u001b[0m\u001b[0;34m\u001b[0m\u001b[0m\n\u001b[0m",
      "\u001b[0;32m~/miniconda3/envs/tf-prob/lib/python3.7/site-packages/web-0.0.1-py3.7.egg/web/embeddings.py\u001b[0m in \u001b[0;36mfetch_FastText\u001b[0;34m(lang, normalize, lower, clean_words)\u001b[0m\n\u001b[1;32m    522\u001b[0m     path = _fetch_file(url=url_vec, data_dir='embeddings',\n\u001b[1;32m    523\u001b[0m                        \u001b[0muncompress\u001b[0m\u001b[0;34m=\u001b[0m\u001b[0;32mFalse\u001b[0m\u001b[0;34m,\u001b[0m\u001b[0;34m\u001b[0m\u001b[0;34m\u001b[0m\u001b[0m\n\u001b[0;32m--> 524\u001b[0;31m                        verbose=1)\n\u001b[0m\u001b[1;32m    525\u001b[0m \u001b[0;34m\u001b[0m\u001b[0m\n\u001b[1;32m    526\u001b[0m     \u001b[0;32mreturn\u001b[0m \u001b[0mload_embedding\u001b[0m\u001b[0;34m(\u001b[0m\u001b[0mpath\u001b[0m\u001b[0;34m,\u001b[0m \u001b[0mformat\u001b[0m\u001b[0;34m=\u001b[0m\u001b[0;34m'word2vec'\u001b[0m\u001b[0;34m,\u001b[0m \u001b[0mnormalize\u001b[0m\u001b[0;34m=\u001b[0m\u001b[0mnormalize\u001b[0m\u001b[0;34m,\u001b[0m \u001b[0mlower\u001b[0m\u001b[0;34m=\u001b[0m\u001b[0mlower\u001b[0m\u001b[0;34m,\u001b[0m \u001b[0mclean_words\u001b[0m\u001b[0;34m=\u001b[0m\u001b[0mclean_words\u001b[0m\u001b[0;34m)\u001b[0m\u001b[0;34m\u001b[0m\u001b[0;34m\u001b[0m\u001b[0m\n",
      "\u001b[0;32m~/miniconda3/envs/tf-prob/lib/python3.7/site-packages/web-0.0.1-py3.7.egg/web/datasets/utils.py\u001b[0m in \u001b[0;36m_fetch_file\u001b[0;34m(url, data_dir, uncompress, move, md5sum, username, password, mock, handlers, resume, verbose)\u001b[0m\n\u001b[1;32m    739\u001b[0m                               \u001b[0musername\u001b[0m\u001b[0;34m=\u001b[0m\u001b[0musername\u001b[0m\u001b[0;34m,\u001b[0m\u001b[0;34m\u001b[0m\u001b[0;34m\u001b[0m\u001b[0m\n\u001b[1;32m    740\u001b[0m                               \u001b[0mpassword\u001b[0m\u001b[0;34m=\u001b[0m\u001b[0mpassword\u001b[0m\u001b[0;34m,\u001b[0m\u001b[0;34m\u001b[0m\u001b[0;34m\u001b[0m\u001b[0m\n\u001b[0;32m--> 741\u001b[0;31m                               handlers=handlers)\n\u001b[0m\u001b[1;32m    742\u001b[0m \u001b[0;34m\u001b[0m\u001b[0m\n\u001b[1;32m    743\u001b[0m         if (abort is None and not os.path.exists(target_file) and not\n",
      "\u001b[0;32m~/miniconda3/envs/tf-prob/lib/python3.7/site-packages/web-0.0.1-py3.7.egg/web/datasets/utils.py\u001b[0m in \u001b[0;36m_fetch_helper\u001b[0;34m(url, data_dir, resume, overwrite, md5sum, username, password, handlers, verbose)\u001b[0m\n\u001b[1;32m    646\u001b[0m                 \u001b[0minitial_size\u001b[0m \u001b[0;34m=\u001b[0m \u001b[0mlocal_file_size\u001b[0m\u001b[0;34m\u001b[0m\u001b[0;34m\u001b[0m\u001b[0m\n\u001b[1;32m    647\u001b[0m             \u001b[0;32melse\u001b[0m\u001b[0;34m:\u001b[0m\u001b[0;34m\u001b[0m\u001b[0;34m\u001b[0m\u001b[0m\n\u001b[0;32m--> 648\u001b[0;31m                 \u001b[0mdata\u001b[0m \u001b[0;34m=\u001b[0m \u001b[0murl_opener\u001b[0m\u001b[0;34m.\u001b[0m\u001b[0mopen\u001b[0m\u001b[0;34m(\u001b[0m\u001b[0mrequest\u001b[0m\u001b[0;34m)\u001b[0m\u001b[0;34m\u001b[0m\u001b[0;34m\u001b[0m\u001b[0m\n\u001b[0m\u001b[1;32m    649\u001b[0m                 \u001b[0mlocal_file\u001b[0m \u001b[0;34m=\u001b[0m \u001b[0mopen\u001b[0m\u001b[0;34m(\u001b[0m\u001b[0mtemp_full_name\u001b[0m\u001b[0;34m,\u001b[0m \u001b[0;34m\"wb\"\u001b[0m\u001b[0;34m)\u001b[0m\u001b[0;34m\u001b[0m\u001b[0;34m\u001b[0m\u001b[0m\n\u001b[1;32m    650\u001b[0m             _chunk_read_(data, local_file, report_hook=(verbose > 0),\n",
      "\u001b[0;32m~/miniconda3/envs/tf-prob/lib/python3.7/urllib/request.py\u001b[0m in \u001b[0;36mopen\u001b[0;34m(self, fullurl, data, timeout)\u001b[0m\n\u001b[1;32m    529\u001b[0m         \u001b[0;32mfor\u001b[0m \u001b[0mprocessor\u001b[0m \u001b[0;32min\u001b[0m \u001b[0mself\u001b[0m\u001b[0;34m.\u001b[0m\u001b[0mprocess_response\u001b[0m\u001b[0;34m.\u001b[0m\u001b[0mget\u001b[0m\u001b[0;34m(\u001b[0m\u001b[0mprotocol\u001b[0m\u001b[0;34m,\u001b[0m \u001b[0;34m[\u001b[0m\u001b[0;34m]\u001b[0m\u001b[0;34m)\u001b[0m\u001b[0;34m:\u001b[0m\u001b[0;34m\u001b[0m\u001b[0;34m\u001b[0m\u001b[0m\n\u001b[1;32m    530\u001b[0m             \u001b[0mmeth\u001b[0m \u001b[0;34m=\u001b[0m \u001b[0mgetattr\u001b[0m\u001b[0;34m(\u001b[0m\u001b[0mprocessor\u001b[0m\u001b[0;34m,\u001b[0m \u001b[0mmeth_name\u001b[0m\u001b[0;34m)\u001b[0m\u001b[0;34m\u001b[0m\u001b[0;34m\u001b[0m\u001b[0m\n\u001b[0;32m--> 531\u001b[0;31m             \u001b[0mresponse\u001b[0m \u001b[0;34m=\u001b[0m \u001b[0mmeth\u001b[0m\u001b[0;34m(\u001b[0m\u001b[0mreq\u001b[0m\u001b[0;34m,\u001b[0m \u001b[0mresponse\u001b[0m\u001b[0;34m)\u001b[0m\u001b[0;34m\u001b[0m\u001b[0;34m\u001b[0m\u001b[0m\n\u001b[0m\u001b[1;32m    532\u001b[0m \u001b[0;34m\u001b[0m\u001b[0m\n\u001b[1;32m    533\u001b[0m         \u001b[0;32mreturn\u001b[0m \u001b[0mresponse\u001b[0m\u001b[0;34m\u001b[0m\u001b[0;34m\u001b[0m\u001b[0m\n",
      "\u001b[0;32m~/miniconda3/envs/tf-prob/lib/python3.7/urllib/request.py\u001b[0m in \u001b[0;36mhttp_response\u001b[0;34m(self, request, response)\u001b[0m\n\u001b[1;32m    639\u001b[0m         \u001b[0;32mif\u001b[0m \u001b[0;32mnot\u001b[0m \u001b[0;34m(\u001b[0m\u001b[0;36m200\u001b[0m \u001b[0;34m<=\u001b[0m \u001b[0mcode\u001b[0m \u001b[0;34m<\u001b[0m \u001b[0;36m300\u001b[0m\u001b[0;34m)\u001b[0m\u001b[0;34m:\u001b[0m\u001b[0;34m\u001b[0m\u001b[0;34m\u001b[0m\u001b[0m\n\u001b[1;32m    640\u001b[0m             response = self.parent.error(\n\u001b[0;32m--> 641\u001b[0;31m                 'http', request, response, code, msg, hdrs)\n\u001b[0m\u001b[1;32m    642\u001b[0m \u001b[0;34m\u001b[0m\u001b[0m\n\u001b[1;32m    643\u001b[0m         \u001b[0;32mreturn\u001b[0m \u001b[0mresponse\u001b[0m\u001b[0;34m\u001b[0m\u001b[0;34m\u001b[0m\u001b[0m\n",
      "\u001b[0;32m~/miniconda3/envs/tf-prob/lib/python3.7/urllib/request.py\u001b[0m in \u001b[0;36merror\u001b[0;34m(self, proto, *args)\u001b[0m\n\u001b[1;32m    567\u001b[0m         \u001b[0;32mif\u001b[0m \u001b[0mhttp_err\u001b[0m\u001b[0;34m:\u001b[0m\u001b[0;34m\u001b[0m\u001b[0;34m\u001b[0m\u001b[0m\n\u001b[1;32m    568\u001b[0m             \u001b[0margs\u001b[0m \u001b[0;34m=\u001b[0m \u001b[0;34m(\u001b[0m\u001b[0mdict\u001b[0m\u001b[0;34m,\u001b[0m \u001b[0;34m'default'\u001b[0m\u001b[0;34m,\u001b[0m \u001b[0;34m'http_error_default'\u001b[0m\u001b[0;34m)\u001b[0m \u001b[0;34m+\u001b[0m \u001b[0morig_args\u001b[0m\u001b[0;34m\u001b[0m\u001b[0;34m\u001b[0m\u001b[0m\n\u001b[0;32m--> 569\u001b[0;31m             \u001b[0;32mreturn\u001b[0m \u001b[0mself\u001b[0m\u001b[0;34m.\u001b[0m\u001b[0m_call_chain\u001b[0m\u001b[0;34m(\u001b[0m\u001b[0;34m*\u001b[0m\u001b[0margs\u001b[0m\u001b[0;34m)\u001b[0m\u001b[0;34m\u001b[0m\u001b[0;34m\u001b[0m\u001b[0m\n\u001b[0m\u001b[1;32m    570\u001b[0m \u001b[0;34m\u001b[0m\u001b[0m\n\u001b[1;32m    571\u001b[0m \u001b[0;31m# XXX probably also want an abstract factory that knows when it makes\u001b[0m\u001b[0;34m\u001b[0m\u001b[0;34m\u001b[0m\u001b[0;34m\u001b[0m\u001b[0m\n",
      "\u001b[0;32m~/miniconda3/envs/tf-prob/lib/python3.7/urllib/request.py\u001b[0m in \u001b[0;36m_call_chain\u001b[0;34m(self, chain, kind, meth_name, *args)\u001b[0m\n\u001b[1;32m    501\u001b[0m         \u001b[0;32mfor\u001b[0m \u001b[0mhandler\u001b[0m \u001b[0;32min\u001b[0m \u001b[0mhandlers\u001b[0m\u001b[0;34m:\u001b[0m\u001b[0;34m\u001b[0m\u001b[0;34m\u001b[0m\u001b[0m\n\u001b[1;32m    502\u001b[0m             \u001b[0mfunc\u001b[0m \u001b[0;34m=\u001b[0m \u001b[0mgetattr\u001b[0m\u001b[0;34m(\u001b[0m\u001b[0mhandler\u001b[0m\u001b[0;34m,\u001b[0m \u001b[0mmeth_name\u001b[0m\u001b[0;34m)\u001b[0m\u001b[0;34m\u001b[0m\u001b[0;34m\u001b[0m\u001b[0m\n\u001b[0;32m--> 503\u001b[0;31m             \u001b[0mresult\u001b[0m \u001b[0;34m=\u001b[0m \u001b[0mfunc\u001b[0m\u001b[0;34m(\u001b[0m\u001b[0;34m*\u001b[0m\u001b[0margs\u001b[0m\u001b[0;34m)\u001b[0m\u001b[0;34m\u001b[0m\u001b[0;34m\u001b[0m\u001b[0m\n\u001b[0m\u001b[1;32m    504\u001b[0m             \u001b[0;32mif\u001b[0m \u001b[0mresult\u001b[0m \u001b[0;32mis\u001b[0m \u001b[0;32mnot\u001b[0m \u001b[0;32mNone\u001b[0m\u001b[0;34m:\u001b[0m\u001b[0;34m\u001b[0m\u001b[0;34m\u001b[0m\u001b[0m\n\u001b[1;32m    505\u001b[0m                 \u001b[0;32mreturn\u001b[0m \u001b[0mresult\u001b[0m\u001b[0;34m\u001b[0m\u001b[0;34m\u001b[0m\u001b[0m\n",
      "\u001b[0;32m~/miniconda3/envs/tf-prob/lib/python3.7/urllib/request.py\u001b[0m in \u001b[0;36mhttp_error_default\u001b[0;34m(self, req, fp, code, msg, hdrs)\u001b[0m\n\u001b[1;32m    647\u001b[0m \u001b[0;32mclass\u001b[0m \u001b[0mHTTPDefaultErrorHandler\u001b[0m\u001b[0;34m(\u001b[0m\u001b[0mBaseHandler\u001b[0m\u001b[0;34m)\u001b[0m\u001b[0;34m:\u001b[0m\u001b[0;34m\u001b[0m\u001b[0;34m\u001b[0m\u001b[0m\n\u001b[1;32m    648\u001b[0m     \u001b[0;32mdef\u001b[0m \u001b[0mhttp_error_default\u001b[0m\u001b[0;34m(\u001b[0m\u001b[0mself\u001b[0m\u001b[0;34m,\u001b[0m \u001b[0mreq\u001b[0m\u001b[0;34m,\u001b[0m \u001b[0mfp\u001b[0m\u001b[0;34m,\u001b[0m \u001b[0mcode\u001b[0m\u001b[0;34m,\u001b[0m \u001b[0mmsg\u001b[0m\u001b[0;34m,\u001b[0m \u001b[0mhdrs\u001b[0m\u001b[0;34m)\u001b[0m\u001b[0;34m:\u001b[0m\u001b[0;34m\u001b[0m\u001b[0;34m\u001b[0m\u001b[0m\n\u001b[0;32m--> 649\u001b[0;31m         \u001b[0;32mraise\u001b[0m \u001b[0mHTTPError\u001b[0m\u001b[0;34m(\u001b[0m\u001b[0mreq\u001b[0m\u001b[0;34m.\u001b[0m\u001b[0mfull_url\u001b[0m\u001b[0;34m,\u001b[0m \u001b[0mcode\u001b[0m\u001b[0;34m,\u001b[0m \u001b[0mmsg\u001b[0m\u001b[0;34m,\u001b[0m \u001b[0mhdrs\u001b[0m\u001b[0;34m,\u001b[0m \u001b[0mfp\u001b[0m\u001b[0;34m)\u001b[0m\u001b[0;34m\u001b[0m\u001b[0;34m\u001b[0m\u001b[0m\n\u001b[0m\u001b[1;32m    650\u001b[0m \u001b[0;34m\u001b[0m\u001b[0m\n\u001b[1;32m    651\u001b[0m \u001b[0;32mclass\u001b[0m \u001b[0mHTTPRedirectHandler\u001b[0m\u001b[0;34m(\u001b[0m\u001b[0mBaseHandler\u001b[0m\u001b[0;34m)\u001b[0m\u001b[0;34m:\u001b[0m\u001b[0;34m\u001b[0m\u001b[0;34m\u001b[0m\u001b[0m\n",
      "\u001b[0;31mHTTPError\u001b[0m: HTTP Error 403: Forbidden"
     ]
    }
   ],
   "source": [
    "# Fetch GloVe embedding (warning: it might take few minutes)\n",
    "w_glove = fetch_FastText()"
   ]
  },
  {
   "cell_type": "code",
   "execution_count": 6,
   "metadata": {},
   "outputs": [],
   "source": [
    "# Define tasks\n",
    "tasks = {\n",
    "    \"MEN\": fetch_MEN(),\n",
    "    \"WS353\": fetch_WS353(),\n",
    "    \"SIMLEX999\": fetch_SimLex999()\n",
    "}"
   ]
  },
  {
   "cell_type": "code",
   "execution_count": 7,
   "metadata": {},
   "outputs": [
    {
     "name": "stdout",
     "output_type": "stream",
     "text": [
      "Sample data from SIMLEX999: pair \"old\" and \"new\" is assigned score 1.58\n",
      "Sample data from MEN: pair \"sun\" and \"sunlight\" is assigned score [ 10.]\n",
      "Sample data from WS353: pair \"love\" and \"sex\" is assigned score 6.77\n"
     ]
    }
   ],
   "source": [
    "# Print sample data\n",
    "for name, data in iteritems(tasks):\n",
    "    print(\"Sample data from {}: pair \\\"{}\\\" and \\\"{}\\\" is assigned score {}\".format(name, data.X[0][0], data.X[0][1], data.y[0]))"
   ]
  },
  {
   "cell_type": "code",
   "execution_count": 8,
   "metadata": {},
   "outputs": [
    {
     "name": "stderr",
     "output_type": "stream",
     "text": [
      "05:51:18 WARNING:Missing 24 words. Will replace them with mean vector\n"
     ]
    },
    {
     "name": "stdout",
     "output_type": "stream",
     "text": [
      "Spearman correlation of scores on SIMLEX999 0.370500357109\n",
      "Spearman correlation of scores on MEN 0.737464696981\n",
      "Spearman correlation of scores on WS353 0.521712569525\n"
     ]
    }
   ],
   "source": [
    "# Calculate results using helper function\n",
    "for name, data in iteritems(tasks):\n",
    "    print \"Spearman correlation of scores on {} {}\".format(name, evaluate_similarity(w_glove, data.X, data.y))"
   ]
  },
  {
   "cell_type": "code",
   "execution_count": null,
   "metadata": {
    "collapsed": true,
    "jupyter": {
     "outputs_hidden": true
    }
   },
   "outputs": [],
   "source": []
  }
 ],
 "metadata": {
  "kernelspec": {
   "display_name": "Python [conda env:tf-prob] *",
   "language": "python",
   "name": "conda-env-tf-prob-py"
  },
  "language_info": {
   "codemirror_mode": {
    "name": "ipython",
    "version": 3
   },
   "file_extension": ".py",
   "mimetype": "text/x-python",
   "name": "python",
   "nbconvert_exporter": "python",
   "pygments_lexer": "ipython3",
   "version": "3.7.10"
  }
 },
 "nbformat": 4,
 "nbformat_minor": 4
}
